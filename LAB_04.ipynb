{
  "nbformat": 4,
  "nbformat_minor": 0,
  "metadata": {
    "colab": {
      "provenance": [],
      "authorship_tag": "ABX9TyMclg3bDlpKKs9yhbE/ySWN",
      "include_colab_link": true
    },
    "kernelspec": {
      "name": "python3",
      "display_name": "Python 3"
    },
    "language_info": {
      "name": "python"
    }
  },
  "cells": [
    {
      "cell_type": "markdown",
      "metadata": {
        "id": "view-in-github",
        "colab_type": "text"
      },
      "source": [
        "<a href=\"https://colab.research.google.com/github/praneeth1711/B20_1711/blob/main/LAB_04.ipynb\" target=\"_parent\"><img src=\"https://colab.research.google.com/assets/colab-badge.svg\" alt=\"Open In Colab\"/></a>"
      ]
    },
    {
      "cell_type": "code",
      "source": [
        "import pandas as pd\n",
        "data = [10,20,30,40,50]\n",
        "series = pd.Series(data)\n",
        "print(series)"
      ],
      "metadata": {
        "colab": {
          "base_uri": "https://localhost:8080/"
        },
        "id": "D71esozK8L0c",
        "outputId": "48aea3bf-53b0-4305-a423-2822c855e698"
      },
      "execution_count": null,
      "outputs": [
        {
          "output_type": "stream",
          "name": "stdout",
          "text": [
            "0    10\n",
            "1    20\n",
            "2    30\n",
            "3    40\n",
            "4    50\n",
            "dtype: int64\n"
          ]
        }
      ]
    },
    {
      "cell_type": "code",
      "source": [
        "#series with custom index\n",
        "data = [10,20,30,40,50]\n",
        "index = ['a','b','c','d','e']\n",
        "series = pd.Series(data,index=index)\n",
        "print(series)"
      ],
      "metadata": {
        "colab": {
          "base_uri": "https://localhost:8080/"
        },
        "id": "aPNwvdUA8r69",
        "outputId": "f3950384-427a-4e46-d7ef-b880db375220"
      },
      "execution_count": null,
      "outputs": [
        {
          "output_type": "stream",
          "name": "stdout",
          "text": [
            "a    10\n",
            "b    20\n",
            "c    30\n",
            "d    40\n",
            "e    50\n",
            "dtype: int64\n"
          ]
        }
      ]
    },
    {
      "cell_type": "code",
      "source": [
        "#creating a data frame\n",
        "data = {'Name':['John','Jane','Bob','charlie'],'Age':[25,30,35,38]}\n",
        "df = pd.DataFrame(data)\n",
        "print(\"Pandas DataFrame\")\n",
        "print(df)"
      ],
      "metadata": {
        "colab": {
          "base_uri": "https://localhost:8080/"
        },
        "id": "PxHCs2KV84W0",
        "outputId": "3483ff65-6520-429d-ded4-98a5a52aa9ff"
      },
      "execution_count": null,
      "outputs": [
        {
          "output_type": "stream",
          "name": "stdout",
          "text": [
            "Pandas DataFrame\n",
            "      Name  Age\n",
            "0     John   25\n",
            "1     Jane   30\n",
            "2      Bob   35\n",
            "3  charlie   38\n"
          ]
        }
      ]
    },
    {
      "cell_type": "code",
      "source": [
        "#basic dataframe operations\n",
        "data = {'Name':['John','Jane','Bob','charlie'],'Age':[25,30,35,38],'city':['hyd','mum','del','raj']}\n",
        "df = pd.DataFrame(data)\n",
        "print(\"Pandas DataFrame\")\n",
        "print(df)\n",
        "print(\"Accessing data\")\n",
        "print(df['Name']) #single column\n",
        "print(df[['Name','city']]) #multiple column\n",
        "print(df.iloc[1])\n",
        "print(df.loc[2])\n",
        "df['salary']=[40000,50000,60000,70000] # adding new column\n",
        "print(df)\n",
        "#removing a column\n",
        "df=df.drop('city',axis=1)\n",
        "print(df)\n",
        "#filtering data\n",
        "print(df[df['Age']>30])\n",
        "print(\"basic statistics\")\n",
        "print(df['Age'].mean())\n",
        "print(df['Age'].max())\n",
        "print(df['Age'].min())"
      ],
      "metadata": {
        "colab": {
          "base_uri": "https://localhost:8080/"
        },
        "id": "xXrIX_6a9u-g",
        "outputId": "a9b41d43-4280-492e-e127-88ccc8d3fe80"
      },
      "execution_count": null,
      "outputs": [
        {
          "output_type": "stream",
          "name": "stdout",
          "text": [
            "Pandas DataFrame\n",
            "      Name  Age city\n",
            "0     John   25  hyd\n",
            "1     Jane   30  mum\n",
            "2      Bob   35  del\n",
            "3  charlie   38  raj\n",
            "Accessing data\n",
            "0       John\n",
            "1       Jane\n",
            "2        Bob\n",
            "3    charlie\n",
            "Name: Name, dtype: object\n",
            "      Name city\n",
            "0     John  hyd\n",
            "1     Jane  mum\n",
            "2      Bob  del\n",
            "3  charlie  raj\n",
            "Name    Jane\n",
            "Age       30\n",
            "city     mum\n",
            "Name: 1, dtype: object\n",
            "Name    Bob\n",
            "Age      35\n",
            "city    del\n",
            "Name: 2, dtype: object\n",
            "      Name  Age city  salary\n",
            "0     John   25  hyd   40000\n",
            "1     Jane   30  mum   50000\n",
            "2      Bob   35  del   60000\n",
            "3  charlie   38  raj   70000\n",
            "      Name  Age  salary\n",
            "0     John   25   40000\n",
            "1     Jane   30   50000\n",
            "2      Bob   35   60000\n",
            "3  charlie   38   70000\n",
            "      Name  Age  salary\n",
            "2      Bob   35   60000\n",
            "3  charlie   38   70000\n",
            "basic statistics\n",
            "32.0\n",
            "38\n",
            "25\n"
          ]
        }
      ]
    },
    {
      "cell_type": "code",
      "source": [
        "student_data={'student_id' :[101,102,103,104],\n",
        "              'name':[\"raju\",\"ravi\",\"neha\",\"mahi\"],\n",
        "              'marks':[80,69,75,98],\n",
        "              'department':[\"cse\",\"ece\",\"eee\",\"civil\"]}\n",
        "df=pd.DataFrame(student_data)\n",
        "print(df)\n",
        "#students with marks >80\n",
        "print(df[df['marks']>80])\n",
        "#average marks\n",
        "print(df['marks'].mean())\n",
        "#adding column\n",
        "df['result']=['pass'if x>40 else 'fail' for x in df['marks']]\n",
        "print(df)\n",
        "\n"
      ],
      "metadata": {
        "colab": {
          "base_uri": "https://localhost:8080/"
        },
        "id": "SFjcF3KZ_Zu9",
        "outputId": "8d291bca-30a0-453b-8234-f2743f3192a8"
      },
      "execution_count": null,
      "outputs": [
        {
          "output_type": "stream",
          "name": "stdout",
          "text": [
            "   student_id  name  marks department\n",
            "0         101  raju     80        cse\n",
            "1         102  ravi     69        ece\n",
            "2         103  neha     75        eee\n",
            "3         104  mahi     98      civil\n",
            "   student_id  name  marks department\n",
            "3         104  mahi     98      civil\n",
            "80.5\n",
            "   student_id  name  marks department result\n",
            "0         101  raju     80        cse   pass\n",
            "1         102  ravi     69        ece   pass\n",
            "2         103  neha     75        eee   pass\n",
            "3         104  mahi     98      civil   pass\n"
          ]
        }
      ]
    },
    {
      "cell_type": "code",
      "source": [
        "student_data={'s_rollno' :[101,102,103,104,105,106],\n",
        "              's_name':[\"raju\",\"ravi\",\"neha\",\"mahi\",\"arina\",\"harry\"],\n",
        "              'm1':[80,69,75,36,94,78],\n",
        "              'm2':[59,65,29,48,94,47],\n",
        "              'm3':[59,87,44,76,68,39]}\n",
        "df=pd.DataFrame(student_data)\n",
        "print(df)\n",
        "df['total']=df['m1']+df['m2']+df['m3']\n",
        "print(df)\n",
        "df['average']=df['total']/3\n",
        "print(df)\n",
        "# Determine result based on individual marks\n",
        "df['result'] = ['pass' if m1 >= 40 and m2 >= 40 and m3 >= 40 else 'fail' for m1, m2, m3 in  zip(df['m1'], df['m2'], df['m3'])]\n",
        "print(df)"
      ],
      "metadata": {
        "colab": {
          "base_uri": "https://localhost:8080/"
        },
        "id": "JDBYQE5NDliW",
        "outputId": "38099a21-21c0-4d99-b371-776f8f1b2b25"
      },
      "execution_count": null,
      "outputs": [
        {
          "output_type": "stream",
          "name": "stdout",
          "text": [
            "   s_rollno s_name  m1  m2  m3\n",
            "0       101   raju  80  59  59\n",
            "1       102   ravi  69  65  87\n",
            "2       103   neha  75  29  44\n",
            "3       104   mahi  36  48  76\n",
            "4       105  arina  94  94  68\n",
            "5       106  harry  78  47  39\n",
            "   s_rollno s_name  m1  m2  m3  total\n",
            "0       101   raju  80  59  59    198\n",
            "1       102   ravi  69  65  87    221\n",
            "2       103   neha  75  29  44    148\n",
            "3       104   mahi  36  48  76    160\n",
            "4       105  arina  94  94  68    256\n",
            "5       106  harry  78  47  39    164\n",
            "   s_rollno s_name  m1  m2  m3  total    average\n",
            "0       101   raju  80  59  59    198  66.000000\n",
            "1       102   ravi  69  65  87    221  73.666667\n",
            "2       103   neha  75  29  44    148  49.333333\n",
            "3       104   mahi  36  48  76    160  53.333333\n",
            "4       105  arina  94  94  68    256  85.333333\n",
            "5       106  harry  78  47  39    164  54.666667\n",
            "   s_rollno s_name  m1  m2  m3  total    average result\n",
            "0       101   raju  80  59  59    198  66.000000   pass\n",
            "1       102   ravi  69  65  87    221  73.666667   pass\n",
            "2       103   neha  75  29  44    148  49.333333   fail\n",
            "3       104   mahi  36  48  76    160  53.333333   fail\n",
            "4       105  arina  94  94  68    256  85.333333   pass\n",
            "5       106  harry  78  47  39    164  54.666667   fail\n"
          ]
        }
      ]
    },
    {
      "cell_type": "code",
      "source": [
        "import pandas as pd\n",
        "df = pd.read_csv(\"/content/course_feedback.csv\")\n",
        "df = df.dropna(subset=[\"Rating\"])\n",
        "filtered = df[(df[\"Course_Name\"] == \"Python for Data Science\") & (df[\"Rating\"] >= 4)]\n",
        "result = filtered[[\"User_ID\", \"Feedback\"]]\n",
        "print(\"Feedback for 'Python for Data Science' with Rating >= 4:\\n\")\n",
        "for index, row in result.iterrows():\n",
        "    print(f\"User: {row['User_ID']} | Feedback: {row['Feedback']}\")\n"
      ],
      "metadata": {
        "id": "cTCWY6JIGPbj",
        "colab": {
          "base_uri": "https://localhost:8080/"
        },
        "outputId": "15202417-e1fb-4e64-e9cf-27eb00764fdd"
      },
      "execution_count": 69,
      "outputs": [
        {
          "output_type": "stream",
          "name": "stdout",
          "text": [
            "Feedback for 'Python for Data Science' with Rating >= 4:\n",
            "\n",
            "User: U001 | Feedback: Great course, very informative!\n",
            "User: U002 | Feedback: Loved the hands-on examples.\n"
          ]
        }
      ]
    },
    {
      "cell_type": "code",
      "source": [
        "import pandas as pd\n",
        "df = pd.read_csv(\"/content/air_quality.csv\")\n",
        "df = df.fillna(method=\"ffill\")\n",
        "polluted_days = df[(df[\"PM2.5\"] > 150) & (df[\"NO2\"] > 80)]\n",
        "print(\"Polluted Day Records:\\n\")\n",
        "print(polluted_days)\n",
        "polluted_days.to_csv(\"polluted_days.csv\", index=False)\n"
      ],
      "metadata": {
        "colab": {
          "base_uri": "https://localhost:8080/"
        },
        "id": "9HL4B7kIUkMq",
        "outputId": "e1f0b9a6-83a0-43f6-e92c-e826893a683e"
      },
      "execution_count": 68,
      "outputs": [
        {
          "output_type": "stream",
          "name": "stdout",
          "text": [
            "Polluted Day Records:\n",
            "\n",
            "  Location  PM2.5   PM10   NO2   SO2        Date\n",
            "0    Delhi  180.0  250.0  90.0  25.0  2023-06-01\n",
            "5    Delhi  200.0  300.0  95.0  30.0  2023-06-06\n",
            "6   Mumbai  160.0  210.0  82.0  22.0  2023-06-07\n"
          ]
        },
        {
          "output_type": "stream",
          "name": "stderr",
          "text": [
            "/tmp/ipython-input-3697160274.py:7: FutureWarning: DataFrame.fillna with 'method' is deprecated and will raise in a future version. Use obj.ffill() or obj.bfill() instead.\n",
            "  df = df.fillna(method=\"ffill\")\n"
          ]
        }
      ]
    },
    {
      "cell_type": "code",
      "source": [],
      "metadata": {
        "id": "sl2dzOtjXOUZ"
      },
      "execution_count": null,
      "outputs": []
    }
  ]
}