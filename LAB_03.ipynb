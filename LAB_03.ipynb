{
  "nbformat": 4,
  "nbformat_minor": 0,
  "metadata": {
    "colab": {
      "provenance": [],
      "authorship_tag": "ABX9TyNhP7kWH8p+eV3fphUTO6oA",
      "include_colab_link": true
    },
    "kernelspec": {
      "name": "python3",
      "display_name": "Python 3"
    },
    "language_info": {
      "name": "python"
    }
  },
  "cells": [
    {
      "cell_type": "markdown",
      "metadata": {
        "id": "view-in-github",
        "colab_type": "text"
      },
      "source": [
        "<a href=\"https://colab.research.google.com/github/praneeth1711/B20_1711/blob/main/LAB_03.ipynb\" target=\"_parent\"><img src=\"https://colab.research.google.com/assets/colab-badge.svg\" alt=\"Open In Colab\"/></a>"
      ]
    },
    {
      "cell_type": "code",
      "source": [
        "fp=open(\"example.text\",'w')\n",
        "fp.write(\"hello ! im praneeth\\n\")\n",
        "fp.write(\" this is file hanlding in python\\n\")\n",
        "fp.write(\"python\\n\")\n"
      ],
      "metadata": {
        "id": "Z9n1LnnkJlg5",
        "colab": {
          "base_uri": "https://localhost:8080/"
        },
        "outputId": "eef93d46-550d-498c-f1e4-311cf13726c0"
      },
      "execution_count": null,
      "outputs": [
        {
          "output_type": "execute_result",
          "data": {
            "text/plain": [
              "7"
            ]
          },
          "metadata": {},
          "execution_count": 20
        }
      ]
    },
    {
      "cell_type": "code",
      "source": [
        "fp=open(\"example.text\",'r')\n",
        "information=fp.read()\n",
        "print(\"information : \",information)\n",
        "fp.close()\n"
      ],
      "metadata": {
        "colab": {
          "base_uri": "https://localhost:8080/"
        },
        "id": "Bsqy8NKk5jbp",
        "outputId": "c0a17b8c-e4a2-4709-8138-30dc34d749fa"
      },
      "execution_count": null,
      "outputs": [
        {
          "output_type": "stream",
          "name": "stdout",
          "text": [
            "information :  hello ! im praneeth\n",
            " this is file hanlding in python\n",
            "python\n",
            "\n"
          ]
        }
      ]
    },
    {
      "cell_type": "code",
      "source": [
        "fp=open(\"example.text\",'r')\n",
        "line1=fp.readline()\n",
        "print(\"line1 : \",line1)\n",
        "line2=fp.readline()\n",
        "print(\"line2: \",line2)\n",
        "fp.close()"
      ],
      "metadata": {
        "colab": {
          "base_uri": "https://localhost:8080/"
        },
        "id": "qNepwa_J69hX",
        "outputId": "729c06c6-c4a9-40e0-fa37-f7cb28d6f775"
      },
      "execution_count": null,
      "outputs": [
        {
          "output_type": "stream",
          "name": "stdout",
          "text": [
            "line1 :  hello ! im praneeth\n",
            "\n",
            "line2:   this is file hanlding in python\n",
            "\n"
          ]
        }
      ]
    },
    {
      "cell_type": "code",
      "source": [
        "#reading all lines\n",
        "fp=open(\"example.text\",'r')\n",
        "lines=fp.readlines()\n",
        "print(\"lines : \",lines)\n",
        "fp.close()"
      ],
      "metadata": {
        "colab": {
          "base_uri": "https://localhost:8080/"
        },
        "id": "Ego1fRLI7pIi",
        "outputId": "494ef5ec-0198-48bd-b220-5127ba8c09f7"
      },
      "execution_count": null,
      "outputs": [
        {
          "output_type": "stream",
          "name": "stdout",
          "text": [
            "lines :  ['hello ! im praneeth\\n', ' this is file hanlding in python\\n', 'python\\n']\n"
          ]
        }
      ]
    },
    {
      "cell_type": "code",
      "source": [
        "#appending data to an exsisting file\n",
        "fp=open(\"example.text\",'a')\n",
        "fp.write(\"appending new data.........\\n\")\n",
        "fp.close()"
      ],
      "metadata": {
        "id": "KC_6zMg9-CO4"
      },
      "execution_count": null,
      "outputs": []
    },
    {
      "cell_type": "code",
      "source": [
        "fp=open(\"example.text\",'r')\n",
        "information=fp.read()\n",
        "print(\"information : \",information)\n",
        "fp.close()"
      ],
      "metadata": {
        "colab": {
          "base_uri": "https://localhost:8080/"
        },
        "id": "lw_1HjoG_YZk",
        "outputId": "1c1681f4-0d43-4d37-fd8d-3ceab92a7138"
      },
      "execution_count": null,
      "outputs": [
        {
          "output_type": "stream",
          "name": "stdout",
          "text": [
            "information :  hello ! im praneeth\n",
            " this is file hanlding in python\n",
            "python\n",
            "appending new data.........\n",
            "\n"
          ]
        }
      ]
    },
    {
      "cell_type": "code",
      "source": [
        "#using with statement\n",
        "with open(\"example.text\",'r') as file:\n",
        "  fp=file.read()\n",
        "  print(\"information : \",fp)"
      ],
      "metadata": {
        "colab": {
          "base_uri": "https://localhost:8080/"
        },
        "id": "9IGinbakAOgp",
        "outputId": "803cea51-b279-44fd-a8ed-ba8621ff28d6"
      },
      "execution_count": null,
      "outputs": [
        {
          "output_type": "stream",
          "name": "stdout",
          "text": [
            "information :  hello ! im praneeth\n",
            " this is file hanlding in python\n",
            "python\n",
            "appending new data.........\n",
            "\n"
          ]
        }
      ]
    },
    {
      "cell_type": "code",
      "source": [
        "#working with csv files [comma separated values]\n",
        "import csv\n",
        "with open(\"student.csv\",\"w\",newline='') as f :\n",
        "  writer=csv.writer(f)\n",
        "  writer.writerow([\"name\",\"marks\"])\n",
        "  writer.writerow([\"alice\",90])\n",
        "  writer.writerow([\"bob\",80])\n",
        "  writer.writerow([\"charlie\",70])\n",
        "  writer.writerow([\"david\",60])\n",
        "\n",
        "\n"
      ],
      "metadata": {
        "id": "LF3-d-tsAWDE"
      },
      "execution_count": null,
      "outputs": []
    },
    {
      "cell_type": "code",
      "source": [
        "import csv\n",
        "with open(\"data.csv\",\"w\",newline='') as f :\n",
        "  writer=csv.writer(f)\n",
        "  writer.writerows([[\"name\",\"marks\"],[\"pandu\",100],[\"pottish\",99],[\"hermoine\",95],[\"nancy\",69]])\n"
      ],
      "metadata": {
        "id": "_dOIb3e8C5oi"
      },
      "execution_count": null,
      "outputs": []
    },
    {
      "cell_type": "code",
      "source": [
        "# reading from csv\n",
        "with open(\"student.csv\",\"r\") as f :\n",
        "  reader=csv.reader(f)\n",
        "  for row in reader:\n",
        "    print(row)"
      ],
      "metadata": {
        "colab": {
          "base_uri": "https://localhost:8080/"
        },
        "id": "bx8mnHD7BvGv",
        "outputId": "8ef0396e-518d-4faf-db63-bccefd8dcd96"
      },
      "execution_count": null,
      "outputs": [
        {
          "output_type": "stream",
          "name": "stdout",
          "text": [
            "['name', 'marks']\n",
            "['alice', '90']\n",
            "['bob', '80']\n",
            "['charlie', '70']\n"
          ]
        }
      ]
    },
    {
      "cell_type": "code",
      "source": [
        "import numpy as np\n",
        "print(\"1D array :\")\n",
        "a=np.array([1,2,3,4])\n",
        "print(a)\n",
        "print(\"2D array :\")\n",
        "b=np.array([[1,2,3],[4,5,6]])\n",
        "print(b)\n",
        "print(\"zeros array\")\n",
        "zeros_array=np.zeros((3,3))\n",
        "print(zeros_array)\n",
        "print(\"ones array\")\n",
        "ones_array=np.ones((3,3))\n",
        "print(ones_array)\n",
        "print(\"range of array :\")\n",
        "range_array=np.arange(1,10,2)\n",
        "print(range_array)\n",
        "print(\"random array :\")\n",
        "random_array=np.random.rand(3,3)\n",
        "print(random_array)"
      ],
      "metadata": {
        "colab": {
          "base_uri": "https://localhost:8080/"
        },
        "id": "Yj80K7WJCoZZ",
        "outputId": "eb70719f-0038-465c-9883-a9362bb8c8f8"
      },
      "execution_count": null,
      "outputs": [
        {
          "output_type": "stream",
          "name": "stdout",
          "text": [
            "1D array :\n",
            "[1 2 3 4]\n",
            "2D array :\n",
            "[[1 2 3]\n",
            " [4 5 6]]\n",
            "zeros array\n",
            "[[0. 0. 0.]\n",
            " [0. 0. 0.]\n",
            " [0. 0. 0.]]\n",
            "ones array\n",
            "[[1. 1. 1.]\n",
            " [1. 1. 1.]\n",
            " [1. 1. 1.]]\n",
            "range of array :\n",
            "[1 3 5 7 9]\n",
            "random array :\n",
            "[[0.73387473 0.25599649 0.20149473]\n",
            " [0.24490811 0.14716334 0.73092618]\n",
            " [0.59860065 0.02358575 0.22494521]]\n"
          ]
        }
      ]
    },
    {
      "cell_type": "code",
      "source": [
        "# array attributes\n",
        "a=np.array([[1,2,3],[4,5,6]])\n",
        "print(\"shape of array : \",a.shape)\n",
        "print(\"size of array : \",a.size)\n",
        "print(\"data type of array : \",a.dtype)\n",
        "print(\"dimension : \",a.ndim)\n",
        "print(\"item size : \",a.itemsize)"
      ],
      "metadata": {
        "colab": {
          "base_uri": "https://localhost:8080/"
        },
        "id": "QB8bTDd0ENBf",
        "outputId": "40522536-21d4-4959-b08a-44cb0b8658b2"
      },
      "execution_count": null,
      "outputs": [
        {
          "output_type": "stream",
          "name": "stdout",
          "text": [
            "shape of array :  (2, 3)\n",
            "size of array :  6\n",
            "data type of array :  int64\n",
            "dimension :  2\n",
            "item size :  8\n"
          ]
        }
      ]
    },
    {
      "cell_type": "code",
      "source": [
        "#indexing and slicing\n",
        "a=np.array([1,2,3,4,5,6])\n",
        "print(\"first element : \",a[0])\n",
        "print(\"last element : \",a[-1])\n",
        "print(\"slice[1,:4]\",a[1:4])\n",
        "a=np.array([[1,2,3],[4,5,6]])\n",
        "print(\"first row : \",a[0])\n",
        "print(\"second row : \",a[1])\n",
        "print(\"first element : \",a[0][0])\n",
        "print(\"second column :\",a[1, :])\n",
        "print(\"element at row1, col2 : \",arr[0,1])"
      ],
      "metadata": {
        "colab": {
          "base_uri": "https://localhost:8080/"
        },
        "id": "k1UNHPuzGx3h",
        "outputId": "9aa3be3d-3eee-49a9-d890-35c5ce4e8d17"
      },
      "execution_count": null,
      "outputs": [
        {
          "output_type": "stream",
          "name": "stdout",
          "text": [
            "first element :  1\n",
            "last element :  6\n",
            "slice[1,:4] [2 3 4]\n",
            "first row :  [1 2 3]\n",
            "second row :  [4 5 6]\n",
            "first element :  1\n",
            "second column : [4 5 6]\n",
            "element at row1, col2 :  2\n"
          ]
        }
      ]
    },
    {
      "cell_type": "code",
      "source": [
        "#arrayb operations\n",
        "\n",
        "a=np.array([1,2,3])\n",
        "b=np.array([4,5,6])\n",
        "\n",
        "print(\"Additon : \",a+b)\n",
        "print(\"Subtraction : \",a-b)\n",
        "print(\"Multiplication : \",a*b)\n",
        "print(\"Division : \",a/b)\n",
        "print(\"power : \",a**2)\n",
        "\n"
      ],
      "metadata": {
        "colab": {
          "base_uri": "https://localhost:8080/"
        },
        "id": "zLO-Rs78LV1A",
        "outputId": "04da6b25-50cf-4595-86af-f8eb12208444"
      },
      "execution_count": null,
      "outputs": [
        {
          "output_type": "stream",
          "name": "stdout",
          "text": [
            "Additon :  [5 7 9]\n",
            "Subtraction :  [-3 -3 -3]\n",
            "Multiplication :  [ 4 10 18]\n",
            "Division :  [0.25 0.4  0.5 ]\n",
            "power :  [1 4 9]\n"
          ]
        }
      ]
    },
    {
      "cell_type": "code",
      "source": [
        "#mathematical functions\n",
        "a=np.array([0,np.pi/2,np.pi])\n",
        "print(\"sine\",np.sin(a))\n",
        "print(\"cosine\",np.cos(a))\n",
        "print(\"sqaure root\",np.sqrt([1,4,9]))\n",
        "print(\"exponential\",np.exp([1,2]))"
      ],
      "metadata": {
        "colab": {
          "base_uri": "https://localhost:8080/"
        },
        "id": "_1HJf4NUQJ-Q",
        "outputId": "84fb9697-243e-4e66-8fae-756900a0d675"
      },
      "execution_count": null,
      "outputs": [
        {
          "output_type": "stream",
          "name": "stdout",
          "text": [
            "sine [0.0000000e+00 1.0000000e+00 1.2246468e-16]\n",
            "cosine [ 1.000000e+00  6.123234e-17 -1.000000e+00]\n",
            "sqaure root [1. 2. 3.]\n",
            "exponential [2.71828183 7.3890561 ]\n"
          ]
        }
      ]
    },
    {
      "cell_type": "code",
      "source": [
        "#aggregate functions\n",
        "arr=np.array([[1,2,3],[4,5,6]])\n",
        "print(\"Array:\\n\",arr)\n",
        "print(\"Sum:\",np.sum(arr))\n",
        "print(\"Min:\",np.min(arr))\n",
        "print(\"Max:\",np.max(arr))\n",
        "print(\"Mean:\",np.mean(arr))\n",
        "print(\"Median:\",np.median(arr))\n",
        "print(\"Standard Deviation:\",np.std(arr))\n",
        "print(\"Sum along axis 0:\",np.sum(arr,axis=0)) #column wise sum\n",
        "print(\"Sum along axis 1:\",np.sum(arr,axis=1)) #row wise sum"
      ],
      "metadata": {
        "colab": {
          "base_uri": "https://localhost:8080/"
        },
        "id": "Z7kJsEbmRLr3",
        "outputId": "433421df-6db6-40a3-ae5d-002604a8364c"
      },
      "execution_count": null,
      "outputs": [
        {
          "output_type": "stream",
          "name": "stdout",
          "text": [
            "Array:\n",
            " [[1 2 3]\n",
            " [4 5 6]]\n",
            "Sum: 21\n",
            "Min: 1\n",
            "Max: 6\n",
            "Mean: 3.5\n",
            "Median: 3.5\n",
            "Standard Deviation: 1.707825127659933\n",
            "Sum along axis 0: [5 7 9]\n",
            "Sum along axis 1: [ 6 15]\n"
          ]
        }
      ]
    },
    {
      "cell_type": "code",
      "source": [
        "#broadcasting\n",
        "a=np.array([1,2,3])\n",
        "b=5\n",
        "print(\"add scalar to array \",a+b)\n",
        "\n",
        "c=np.array([[1],[2],[3]])\n",
        "d=np.array([1,2,3])\n",
        "print(\"broadcasting sum : \",c+d)"
      ],
      "metadata": {
        "colab": {
          "base_uri": "https://localhost:8080/"
        },
        "id": "YeR4apUBRgbQ",
        "outputId": "ac027040-5ab9-48bf-cef8-2a858b2ae08e"
      },
      "execution_count": null,
      "outputs": [
        {
          "output_type": "stream",
          "name": "stdout",
          "text": [
            "add scalar to array  [6 7 8]\n",
            "broadcasting sum :  [[2 3 4]\n",
            " [3 4 5]\n",
            " [4 5 6]]\n"
          ]
        }
      ]
    },
    {
      "cell_type": "code",
      "source": [
        "#Matrix Operations\n",
        "A=np.array([[1,2],[3,4]])\n",
        "B=np.array([[5,6],[7,8]])\n",
        "print(\"Matrix Multiplication:\\n\",np.dot(A,B))\n",
        "print(\"Matrix Transpose:\\n\",A.T)\n",
        "print(\"Matrix Transpose:\\n\",B.T)\n",
        "print(\"Matrix Inverse:\\n\",np.linalg.inv(A))\n",
        "print(\"Matrix Determinant:\\n\",np.linalg.det(A))"
      ],
      "metadata": {
        "colab": {
          "base_uri": "https://localhost:8080/"
        },
        "id": "LjB50tnbTNW0",
        "outputId": "f5edf316-d2e9-401c-de62-e02bc998759e"
      },
      "execution_count": null,
      "outputs": [
        {
          "output_type": "stream",
          "name": "stdout",
          "text": [
            "Matrix Multiplication:\n",
            " [[19 22]\n",
            " [43 50]]\n",
            "Matrix Transpose:\n",
            " [[1 3]\n",
            " [2 4]]\n",
            "Matrix Transpose:\n",
            " [[5 7]\n",
            " [6 8]]\n",
            "Matrix Inverse:\n",
            " [[-2.   1. ]\n",
            " [ 1.5 -0.5]]\n",
            "Matrix Determinant:\n",
            " -2.0000000000000004\n"
          ]
        }
      ]
    },
    {
      "cell_type": "code",
      "source": [
        "#Sample Program - Student Analsis\n",
        "import numpy as np\n",
        "# Marks of students in 3 subjects\n",
        "marks = np.array([\n",
        "[85, 90, 88],\n",
        "[78, 81, 85],\n",
        "[92, 89, 95]\n",
        "])\n",
        "print(\"Average marks per student:\", np.mean(marks, axis=1))\n",
        "print(\"Average marks per subject:\", np.mean(marks, axis=0))\n",
        "print(\"Highest marks in each subject:\", np.max(marks, axis=0))\n",
        "print(\"Lowest marks in each subject:\", np.min(marks, axis=0))"
      ],
      "metadata": {
        "colab": {
          "base_uri": "https://localhost:8080/"
        },
        "id": "4bliSw7lVdqJ",
        "outputId": "5e03ab7e-c22b-4c11-f934-1aa94efd955a"
      },
      "execution_count": null,
      "outputs": [
        {
          "output_type": "stream",
          "name": "stdout",
          "text": [
            "Average marks per student: [87.66666667 81.33333333 92.        ]\n",
            "Average marks per subject: [85.         86.66666667 89.33333333]\n",
            "Highest marks in each subject: [92 90 95]\n",
            "Lowest marks in each subject: [78 81 85]\n"
          ]
        }
      ]
    },
    {
      "cell_type": "code",
      "source": [
        "import numpy as np\n",
        "A = np.array([[1, -2, 3],\n",
        "              [4, -5, 6],\n",
        "              [7,  8, -9]])\n",
        "\n",
        "print(\" Original Array:\\n\", A)\n",
        "A_squared = A ** 2\n",
        "print(\"Squared Array:\\n\", A_squared)\n",
        "\n",
        "A_sqrt = np.sqrt(A_squared)\n",
        "print(\"Square Root of Squared Array:\\n\", A_sqrt)\n",
        "A_nonneg = np.where(A < 0, 0, A)\n",
        "print(\"Negatives replaced with 0:\\n\", A_nonneg)\n",
        "count_greater_5 = np.sum(A > 5)\n",
        "print(\"Number of elements > 5:\", count_greater_5)\n",
        "count_even = np.sum(A % 2 == 0)\n",
        "print(\"Number of even elements:\", count_even)\n",
        "mask = A > 3\n",
        "print(\"Boolean Mask of elements > 3:\\n\", mask)\n",
        "masked_result = np.where(mask, A, -1)\n",
        "print(\"Masked Result (values > 3, else -1):\\n\", masked_result)\n"
      ],
      "metadata": {
        "id": "cMrkRbWVYoAx",
        "colab": {
          "base_uri": "https://localhost:8080/"
        },
        "outputId": "ebd83de3-c3b7-4827-d1ef-29f877b38545"
      },
      "execution_count": 2,
      "outputs": [
        {
          "output_type": "stream",
          "name": "stdout",
          "text": [
            " Original Array:\n",
            " [[ 1 -2  3]\n",
            " [ 4 -5  6]\n",
            " [ 7  8 -9]]\n",
            "Squared Array:\n",
            " [[ 1  4  9]\n",
            " [16 25 36]\n",
            " [49 64 81]]\n",
            "Square Root of Squared Array:\n",
            " [[1. 2. 3.]\n",
            " [4. 5. 6.]\n",
            " [7. 8. 9.]]\n",
            "Negatives replaced with 0:\n",
            " [[1 0 3]\n",
            " [4 0 6]\n",
            " [7 8 0]]\n",
            "Number of elements > 5: 3\n",
            "Number of even elements: 4\n",
            "Boolean Mask of elements > 3:\n",
            " [[False False False]\n",
            " [ True False  True]\n",
            " [ True  True False]]\n",
            "Masked Result (values > 3, else -1):\n",
            " [[-1 -1 -1]\n",
            " [ 4 -1  6]\n",
            " [ 7  8 -1]]\n"
          ]
        }
      ]
    },
    {
      "cell_type": "code",
      "source": [],
      "metadata": {
        "id": "rHLyYIRe2t3o"
      },
      "execution_count": null,
      "outputs": []
    }
  ]
}