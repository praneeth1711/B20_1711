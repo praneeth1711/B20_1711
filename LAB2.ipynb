{
  "nbformat": 4,
  "nbformat_minor": 0,
  "metadata": {
    "colab": {
      "provenance": [],
      "authorship_tag": "ABX9TyMIc7x0Nr2l5q91Dwygqw34",
      "include_colab_link": true
    },
    "kernelspec": {
      "name": "python3",
      "display_name": "Python 3"
    },
    "language_info": {
      "name": "python"
    }
  },
  "cells": [
    {
      "cell_type": "markdown",
      "metadata": {
        "id": "view-in-github",
        "colab_type": "text"
      },
      "source": [
        "<a href=\"https://colab.research.google.com/github/praneeth1711/B20_1711/blob/main/LAB2.ipynb\" target=\"_parent\"><img src=\"https://colab.research.google.com/assets/colab-badge.svg\" alt=\"Open In Colab\"/></a>"
      ]
    },
    {
      "cell_type": "code",
      "source": [
        "l=[1,2,3,4,\"CSE\"]\n",
        "print(l)\n",
        "for i in l :\n",
        "  print(type(i),i)\n"
      ],
      "metadata": {
        "colab": {
          "base_uri": "https://localhost:8080/"
        },
        "id": "xCyUMx96ge-O",
        "outputId": "de3e16a9-699f-4102-b694-b381d49d5eb1"
      },
      "execution_count": 30,
      "outputs": [
        {
          "output_type": "stream",
          "name": "stdout",
          "text": [
            "[1, 2, 3, 4, 'CSE']\n",
            "<class 'int'> 1\n",
            "<class 'int'> 2\n",
            "<class 'int'> 3\n",
            "<class 'int'> 4\n",
            "<class 'str'> CSE\n"
          ]
        }
      ]
    },
    {
      "cell_type": "code",
      "source": [
        "l=[10,20,30,40]\n",
        "l.append(50)\n",
        "print(l)\n",
        "l.pop()\n",
        "print(l)\n",
        "l.remove(30)\n",
        "print(l)\n",
        "l.insert(2,100)\n",
        "l.sort()\n",
        "print(sum(l))\n",
        "print(min(l))\n",
        "print(max(l))\n",
        "print(l)"
      ],
      "metadata": {
        "id": "8cdFoTTnhFZq",
        "colab": {
          "base_uri": "https://localhost:8080/"
        },
        "outputId": "fa375611-0e55-4ba3-e861-534a2ac97513"
      },
      "execution_count": 31,
      "outputs": [
        {
          "output_type": "stream",
          "name": "stdout",
          "text": [
            "[10, 20, 30, 40, 50]\n",
            "[10, 20, 30, 40]\n",
            "[10, 20, 40]\n",
            "170\n",
            "10\n",
            "100\n",
            "[10, 20, 40, 100]\n"
          ]
        }
      ]
    },
    {
      "cell_type": "code",
      "source": [
        "data = [\n",
        "    [10, 20, 30],\n",
        "    [40, 50, 60],\n",
        "    [70, 80, 90]\n",
        "]\n",
        "for i in data :\n",
        "  print(i)\n",
        "\n"
      ],
      "metadata": {
        "colab": {
          "base_uri": "https://localhost:8080/"
        },
        "id": "MuEBwWKM5eVf",
        "outputId": "40a698b0-0682-43ca-ea84-935ee01e563f"
      },
      "execution_count": 65,
      "outputs": [
        {
          "output_type": "stream",
          "name": "stdout",
          "text": [
            "[10, 20, 30]\n",
            "[40, 50, 60]\n",
            "[70, 80, 90]\n",
            "[10, 20, 30] [40, 50, 60] [70, 80, 90]\n"
          ]
        }
      ]
    },
    {
      "cell_type": "code",
      "metadata": {
        "colab": {
          "base_uri": "https://localhost:8080/"
        },
        "id": "417750ab",
        "outputId": "e7baf9fa-8692-440b-e3f9-fd67effa04f4"
      },
      "source": [
        "my_list = [1, 2, 3, 4, 5]\n",
        "\n",
        "for item in my_list:\n",
        "  print(item)"
      ],
      "execution_count": 33,
      "outputs": [
        {
          "output_type": "stream",
          "name": "stdout",
          "text": [
            "1\n",
            "2\n",
            "3\n",
            "4\n",
            "5\n"
          ]
        }
      ]
    },
    {
      "cell_type": "code",
      "source": [
        "t=(10,20,30,40,50)\n",
        "print(t)\n",
        "for i in t:\n",
        "  print(type(i),i)\n",
        "if 20 in t :\n",
        "  print(\" is present\")\n",
        "else :\n",
        "  print(\" is not present\")\n",
        "\n",
        "t=(1,2,3,4,2,2)\n",
        "print(t.count(2))\n",
        "print(t.index(4))\n",
        "print(t)\n",
        "\n",
        "l=[10,20,30]\n",
        "t=tuple(l)\n",
        "print(t)\n",
        "\n",
        "nested_tuple = (\n",
        "    (1, 2, 3),\n",
        "    (4, 5, 6),\n",
        "    (7, 8, 9)\n",
        ")\n",
        "print(nested_tuple)\n",
        "\n"
      ],
      "metadata": {
        "colab": {
          "base_uri": "https://localhost:8080/"
        },
        "id": "ybEZOfJR8fKa",
        "outputId": "83137b72-d2cb-4692-c051-c13f043b52eb"
      },
      "execution_count": 40,
      "outputs": [
        {
          "output_type": "stream",
          "name": "stdout",
          "text": [
            "(10, 20, 30, 40, 50)\n",
            "<class 'int'> 10\n",
            "<class 'int'> 20\n",
            "<class 'int'> 30\n",
            "<class 'int'> 40\n",
            "<class 'int'> 50\n",
            " is present\n",
            "3\n",
            "3\n",
            "(1, 2, 3, 4, 2, 2)\n",
            "(10, 20, 30)\n",
            "((1, 2, 3), (4, 5, 6), (7, 8, 9))\n"
          ]
        }
      ]
    },
    {
      "cell_type": "code",
      "source": [
        "student={\"name\":\"java\",\"id\":\"1711\",\"brach\":\"cse\",\"batch\":\"20\"}\n",
        "print(student.keys())\n",
        "print(student.values())\n",
        "print(student.items())\n",
        "\n",
        "for key,value in student.items():\n",
        "  print(key,\":\" ,value)\n",
        "\n",
        "\n",
        "student[\"college\"]=\"sru\"\n",
        "print(student)\n",
        "student[\"specialisation\"]=\"AIML\"\n",
        "print(student)\n",
        "del student[\"specialisation\"]\n",
        "print(student)\n",
        "\n",
        "\n",
        "student1={101:{\"name\":\"c\",\"id\":\"1\"},\"102\":{\"name\":\"python\",\"id\":\"2\"}}\n",
        "print(student1)\n",
        "print(student1[101])\n",
        "print(student1[101][\"name\"])\n",
        "\n"
      ],
      "metadata": {
        "colab": {
          "base_uri": "https://localhost:8080/"
        },
        "id": "SQMdr-VE8ksA",
        "outputId": "7d5c6513-a2d3-4080-8ede-6be887c63d36"
      },
      "execution_count": 55,
      "outputs": [
        {
          "output_type": "stream",
          "name": "stdout",
          "text": [
            "dict_keys(['name', 'id', 'brach', 'batch'])\n",
            "dict_values(['java', '1711', 'cse', '20'])\n",
            "dict_items([('name', 'java'), ('id', '1711'), ('brach', 'cse'), ('batch', '20')])\n",
            "name : java\n",
            "id : 1711\n",
            "brach : cse\n",
            "batch : 20\n",
            "{'name': 'java', 'id': '1711', 'brach': 'cse', 'batch': '20', 'college': 'sru'}\n",
            "{'name': 'java', 'id': '1711', 'brach': 'cse', 'batch': '20', 'college': 'sru', 'specialisation': 'AIML'}\n",
            "{'name': 'java', 'id': '1711', 'brach': 'cse', 'batch': '20', 'college': 'sru'}\n",
            "{101: {'name': 'c', 'id': '1'}, '102': {'name': 'python', 'id': '2'}}\n",
            "{'name': 'c', 'id': '1'}\n",
            "c\n"
          ]
        }
      ]
    },
    {
      "cell_type": "code",
      "source": [
        "s={1,2,3,4}\n",
        "print(s)\n",
        "s={1,2,3,4,1,2,3,4}\n",
        "print(s)\n",
        "for i in s:\n",
        "  print(i)\n",
        "if 2 in s:\n",
        "  print(\"found\");\n",
        "else:\n",
        "  print(\"not found\")\n",
        "\n",
        "\n",
        "a={1,2,3,4}\n",
        "b={3,4,5,6}\n",
        "print(\"union\",a|b)\n",
        "print(\"intersection\",a&b)\n",
        "print(\"difference\",a-b)\n",
        "print(\"difference\",b-a)\n",
        "print(\"symmetric difference\",a^b)\n",
        "print(a.union(b))\n",
        "print(a.intersection(b))\n",
        "print(a.difference(b))\n",
        "print(b.difference(a))\n",
        "print(a.symmetric_difference(b))\n",
        "\n",
        "p={1,2,3}\n",
        "p.add(4)\n",
        "print(p)\n",
        "p.remove(2)\n",
        "print(p)\n",
        "p.clear()\n",
        "print(p)\n",
        "\n"
      ],
      "metadata": {
        "colab": {
          "base_uri": "https://localhost:8080/"
        },
        "id": "YP4Ew4KDA5vk",
        "outputId": "a5d9bdc5-da1f-4e47-88a3-4784459202ab"
      },
      "execution_count": 71,
      "outputs": [
        {
          "output_type": "stream",
          "name": "stdout",
          "text": [
            "{1, 2, 3, 4}\n",
            "{1, 2, 3, 4}\n",
            "1\n",
            "2\n",
            "3\n",
            "4\n",
            "found\n",
            "union {1, 2, 3, 4, 5, 6}\n",
            "intersection {3, 4}\n",
            "difference {1, 2}\n",
            "difference {5, 6}\n",
            "symmetric difference {1, 2, 5, 6}\n",
            "{1, 2, 3, 4, 5, 6}\n",
            "{3, 4}\n",
            "{1, 2}\n",
            "{5, 6}\n",
            "{1, 2, 5, 6}\n",
            "{1, 2, 3, 4}\n",
            "{1, 3, 4}\n",
            "set()\n"
          ]
        }
      ]
    },
    {
      "cell_type": "code",
      "source": [
        "\n",
        "import numpy as np\n",
        "marks = np.array([[85, 78, 92], [70, 65, 80],  [90, 88, 94],  [60, 75, 70],  [95, 85, 99] ])\n",
        "avg_marks = np.mean(marks)\n",
        "min_marks = np.min(marks)\n",
        "max_marks = np.max(marks)\n",
        "print(avg_marks)\n",
        "print(min_marks)\n",
        "print(max_marks)\n",
        "\n",
        "print(\"Marks of Student 3:\", marks[2])\n",
        "print(\"Marks of Students 2 to 4: \", marks[1:4])\n",
        "\n",
        "excellent= marks >80\n",
        "print(excellent)\n",
        "\n",
        "each_subject = marks.T\n",
        "print(\"EACH SUBJECT MARKS\", each_subject)\n",
        "\n",
        "\n",
        "\n"
      ],
      "metadata": {
        "colab": {
          "base_uri": "https://localhost:8080/"
        },
        "id": "320XBs-2Nw58",
        "outputId": "6e93ee43-24db-4bc3-c9ba-5a5cacaf1ebd"
      },
      "execution_count": 90,
      "outputs": [
        {
          "output_type": "stream",
          "name": "stdout",
          "text": [
            "81.73333333333333\n",
            "60\n",
            "99\n",
            "Marks of Student 3: [90 88 94]\n",
            "Marks of Students 2 to 4:  [[70 65 80]\n",
            " [90 88 94]\n",
            " [60 75 70]]\n",
            "[[ True False  True]\n",
            " [False False False]\n",
            " [ True  True  True]\n",
            " [False False False]\n",
            " [ True  True  True]]\n",
            "EACH SUBJECT MARKS [[85 70 90 60 95]\n",
            " [78 65 88 75 85]\n",
            " [92 80 94 70 99]]\n"
          ]
        }
      ]
    },
    {
      "cell_type": "code",
      "source": [],
      "metadata": {
        "id": "TljITauoSksr"
      },
      "execution_count": null,
      "outputs": []
    }
  ]
}